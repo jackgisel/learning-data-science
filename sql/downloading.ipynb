{
 "cells": [
  {
   "cell_type": "code",
   "execution_count": 2,
   "metadata": {},
   "outputs": [],
   "source": [
    "import yfinance as yf\n",
    "import pandas as pd\n",
    "from sqlalchemy import create_engine"
   ]
  },
  {
   "cell_type": "code",
   "execution_count": 3,
   "metadata": {},
   "outputs": [],
   "source": [
    "engine = create_engine(\"sqlite:///TEST.db\")"
   ]
  },
  {
   "cell_type": "code",
   "execution_count": 13,
   "metadata": {},
   "outputs": [
    {
     "name": "stdout",
     "output_type": "stream",
     "text": [
      "[*********************100%%**********************]  1 of 1 completed\n"
     ]
    }
   ],
   "source": [
    "df = yf.download('AAPL', start='2023-01-01', end='2023-11-24')"
   ]
  },
  {
   "cell_type": "code",
   "execution_count": 17,
   "metadata": {},
   "outputs": [],
   "source": [
    "def sql_importer(symbol, start_date=\"2023-01-01\"):\n",
    "    try:\n",
    "        max_date = pd.read_sql(f\"select max(Date) from {symbol}\", engine).values[0][0]\n",
    "        print(max_date)\n",
    "        new_data = yf.download(symbol, start=pd.to_datetime(max_date))\n",
    "        new_rows = new_data[new_data.index > max_date]\n",
    "        new_rows.to_sql(symbol, engine, if_exists='append')\n",
    "        print(f\"Rows imported to DB: {len(new_rows)}\")\n",
    "    except:\n",
    "        new_data = yf.download(symbol, start=start_date)\n",
    "        new_data.to_sql(symbol, engine)\n",
    "        print(f\"New table created for {symbol} with: {len(new_data)} rows\")\n",
    "    "
   ]
  },
  {
   "cell_type": "code",
   "execution_count": 19,
   "metadata": {},
   "outputs": [
    {
     "name": "stdout",
     "output_type": "stream",
     "text": [
      "2023-11-24 00:00:00.000000\n",
      "[*********************100%%**********************]  1 of 1 completed\n",
      "Rows imported to DB: 0\n"
     ]
    }
   ],
   "source": [
    "sql_importer('TSLA')"
   ]
  },
  {
   "cell_type": "code",
   "execution_count": null,
   "metadata": {},
   "outputs": [],
   "source": []
  }
 ],
 "metadata": {
  "kernelspec": {
   "display_name": "Python 3",
   "language": "python",
   "name": "python3"
  },
  "language_info": {
   "codemirror_mode": {
    "name": "ipython",
    "version": 3
   },
   "file_extension": ".py",
   "mimetype": "text/x-python",
   "name": "python",
   "nbconvert_exporter": "python",
   "pygments_lexer": "ipython3",
   "version": "3.12.0"
  }
 },
 "nbformat": 4,
 "nbformat_minor": 2
}
