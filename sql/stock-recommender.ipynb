{
 "cells": [
  {
   "cell_type": "code",
   "execution_count": 1,
   "metadata": {},
   "outputs": [],
   "source": [
    "import ta\n",
    "import sqlalchemy\n",
    "import pandas as pd"
   ]
  },
  {
   "cell_type": "code",
   "execution_count": 2,
   "metadata": {},
   "outputs": [],
   "source": [
    "engine = sqlalchemy.create_engine(\"sqlite:///usa.db\")"
   ]
  },
  {
   "cell_type": "code",
   "execution_count": 3,
   "metadata": {},
   "outputs": [],
   "source": [
    "names = pd.read_sql('select name from sqlite_master where type = \"table\"', engine)"
   ]
  },
  {
   "cell_type": "code",
   "execution_count": 4,
   "metadata": {},
   "outputs": [],
   "source": [
    "names = names.name"
   ]
  },
  {
   "cell_type": "code",
   "execution_count": 5,
   "metadata": {},
   "outputs": [],
   "source": [
    "framelist = [\n",
    "    pd.read_sql(f\"select Date, Close from {name}\", engine)\n",
    "    for name in names\n",
    "]"
   ]
  },
  {
   "cell_type": "code",
   "execution_count": 6,
   "metadata": {},
   "outputs": [],
   "source": [
    "def macd_decision(df):\n",
    "    df[\"macd_diff\"] = ta.trend.macd_diff(df.Close)\n",
    "    df[\"Decision MACD\"] = \"nil\"\n",
    "    df.loc[(df.macd_diff > 0) & (df.macd_diff.shift(1) < 0), 'Decision MACD'] = 'BUY'"
   ]
  },
  {
   "cell_type": "code",
   "execution_count": 7,
   "metadata": {},
   "outputs": [],
   "source": [
    "def rsi_decision(df):\n",
    "    df[\"RSI\"] = ta.momentum.rsi(df.Close, window=10)\n",
    "    df[\"SMA200\"] = ta.trend.sma_indicator(df.Close, window=200)\n",
    "    df[\"Decision RSI/SMA\"] = \"nil\"\n",
    "    df.loc[(df.Close > df.SMA200) * (df.RSI < 30), \"Decision RSI/SMA\"] = \"BUY\""
   ]
  },
  {
   "cell_type": "code",
   "execution_count": 8,
   "metadata": {},
   "outputs": [],
   "source": [
    "for frame in framelist:\n",
    "    macd_decision(frame)\n",
    "    rsi_decision(frame)"
   ]
  },
  {
   "cell_type": "code",
   "execution_count": 9,
   "metadata": {},
   "outputs": [],
   "source": [
    "for name, frame in zip(names, framelist):\n",
    "    if frame['Decision MACD'].iloc[-1] == \"BUY\":\n",
    "        print(f\"Buy signal for MACD for {name}\")\n",
    "    if frame['Decision RSI/SMA'].iloc[-1] == \"BUY\":\n",
    "        print(f\"Buy signal for RSI/SMA for {name}\")"
   ]
  },
  {
   "cell_type": "code",
   "execution_count": null,
   "metadata": {},
   "outputs": [],
   "source": []
  }
 ],
 "metadata": {
  "kernelspec": {
   "display_name": "Python 3",
   "language": "python",
   "name": "python3"
  },
  "language_info": {
   "codemirror_mode": {
    "name": "ipython",
    "version": 3
   },
   "file_extension": ".py",
   "mimetype": "text/x-python",
   "name": "python",
   "nbconvert_exporter": "python",
   "pygments_lexer": "ipython3",
   "version": "3.12.0"
  }
 },
 "nbformat": 4,
 "nbformat_minor": 2
}
